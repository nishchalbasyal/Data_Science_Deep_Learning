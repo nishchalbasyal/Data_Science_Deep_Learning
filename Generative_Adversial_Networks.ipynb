{
  "nbformat": 4,
  "nbformat_minor": 0,
  "metadata": {
    "colab": {
      "provenance": [],
      "gpuType": "T4"
    },
    "kernelspec": {
      "name": "python3",
      "display_name": "Python 3"
    },
    "language_info": {
      "name": "python"
    },
    "accelerator": "GPU"
  },
  "cells": [
    {
      "cell_type": "code",
      "execution_count": null,
      "metadata": {
        "id": "YaPOvxvGwbAr"
      },
      "outputs": [],
      "source": [
        "import numpy as np\n",
        "import matplotlib.pyplot as plt\n"
      ]
    },
    {
      "cell_type": "code",
      "source": [
        "from tqdm import tqdm"
      ],
      "metadata": {
        "id": "za3h2MhSxKqp"
      },
      "execution_count": null,
      "outputs": []
    },
    {
      "cell_type": "code",
      "source": [
        "from keras.models import Sequential, Model\n",
        "from keras.layers import Dense, Input, BatchNormalization"
      ],
      "metadata": {
        "id": "PStHQliDxMHR"
      },
      "execution_count": null,
      "outputs": []
    },
    {
      "cell_type": "code",
      "source": [
        "from keras.datasets import mnist"
      ],
      "metadata": {
        "id": "nHXgoFF7xS8h"
      },
      "execution_count": null,
      "outputs": []
    },
    {
      "cell_type": "code",
      "source": [
        "(X,_),(_,_) = mnist.load_data()"
      ],
      "metadata": {
        "id": "ftesbptZxWqE"
      },
      "execution_count": null,
      "outputs": []
    },
    {
      "cell_type": "code",
      "source": [
        "X.shape"
      ],
      "metadata": {
        "colab": {
          "base_uri": "https://localhost:8080/"
        },
        "id": "dO--t4Ytxfo9",
        "outputId": "9dc06539-ddcf-4b31-f5b7-bb0d16fe0b5c"
      },
      "execution_count": null,
      "outputs": [
        {
          "output_type": "execute_result",
          "data": {
            "text/plain": [
              "(60000, 28, 28)"
            ]
          },
          "metadata": {},
          "execution_count": 6
        }
      ]
    },
    {
      "cell_type": "code",
      "source": [
        "28 * 28"
      ],
      "metadata": {
        "colab": {
          "base_uri": "https://localhost:8080/"
        },
        "id": "7Kzc7qBXxi69",
        "outputId": "a3b85c5b-b1c5-4f48-f639-b18a7af5df6f"
      },
      "execution_count": null,
      "outputs": [
        {
          "output_type": "execute_result",
          "data": {
            "text/plain": [
              "784"
            ]
          },
          "metadata": {},
          "execution_count": 7
        }
      ]
    },
    {
      "cell_type": "code",
      "source": [
        "X = X.reshape(60_000,784)"
      ],
      "metadata": {
        "id": "RxoS6UNwC460"
      },
      "execution_count": null,
      "outputs": []
    },
    {
      "cell_type": "code",
      "source": [
        "discriminator = Sequential()\n",
        "discriminator.add(Dense(input_dim=784,units=256,activation='relu'))\n",
        "\n",
        "discriminator.add(Dense(units=64,activation='relu'))\n",
        "discriminator.add(Dense(units=24,activation='relu'))\n",
        "discriminator.add(Dense(units=64,activation='relu'))\n",
        "discriminator.add(Dense(units=1,activation='sigmoid'))\n",
        "\n",
        "discriminator.compile(loss='binary_crossentropy',optimizer='adam')\n",
        "\n",
        "discriminator.summary()"
      ],
      "metadata": {
        "colab": {
          "base_uri": "https://localhost:8080/"
        },
        "id": "VgG5XyyRxks5",
        "outputId": "4948dada-069c-4ec6-8101-c1b27e0d9f63"
      },
      "execution_count": null,
      "outputs": [
        {
          "output_type": "stream",
          "name": "stdout",
          "text": [
            "Model: \"sequential\"\n",
            "_________________________________________________________________\n",
            " Layer (type)                Output Shape              Param #   \n",
            "=================================================================\n",
            " dense (Dense)               (None, 256)               200960    \n",
            "                                                                 \n",
            " dense_1 (Dense)             (None, 64)                16448     \n",
            "                                                                 \n",
            " dense_2 (Dense)             (None, 24)                1560      \n",
            "                                                                 \n",
            " dense_3 (Dense)             (None, 64)                1600      \n",
            "                                                                 \n",
            " dense_4 (Dense)             (None, 1)                 65        \n",
            "                                                                 \n",
            "=================================================================\n",
            "Total params: 220633 (861.85 KB)\n",
            "Trainable params: 220633 (861.85 KB)\n",
            "Non-trainable params: 0 (0.00 Byte)\n",
            "_________________________________________________________________\n"
          ]
        }
      ]
    },
    {
      "cell_type": "code",
      "source": [
        "noise_dim = 100"
      ],
      "metadata": {
        "id": "RIQMTJNwyPWS"
      },
      "execution_count": null,
      "outputs": []
    },
    {
      "cell_type": "code",
      "source": [
        "generator = Sequential()\n",
        "\n",
        "generator.add(Dense(units=128,activation='relu',input_dim=noise_dim))\n",
        "generator.add(BatchNormalization())\n",
        "\n",
        "generator.add(Dense(units=256,activation='relu'))\n",
        "generator.add(BatchNormalization())\n",
        "\n",
        "generator.add(Dense(units=512,activation='relu'))\n",
        "generator.add(BatchNormalization())\n",
        "\n",
        "generator.add(Dense(units=784,activation='relu'))\n",
        "\n",
        "generator.compile(loss='mae',optimizer='adam')\n",
        "\n",
        "generator.summary()"
      ],
      "metadata": {
        "colab": {
          "base_uri": "https://localhost:8080/"
        },
        "id": "nKucNAD9zOfX",
        "outputId": "d42352ff-33eb-46d3-d4bc-80315c12e8a5"
      },
      "execution_count": null,
      "outputs": [
        {
          "output_type": "stream",
          "name": "stdout",
          "text": [
            "Model: \"sequential_1\"\n",
            "_________________________________________________________________\n",
            " Layer (type)                Output Shape              Param #   \n",
            "=================================================================\n",
            " dense_5 (Dense)             (None, 128)               12928     \n",
            "                                                                 \n",
            " batch_normalization (Batch  (None, 128)               512       \n",
            " Normalization)                                                  \n",
            "                                                                 \n",
            " dense_6 (Dense)             (None, 256)               33024     \n",
            "                                                                 \n",
            " batch_normalization_1 (Bat  (None, 256)               1024      \n",
            " chNormalization)                                                \n",
            "                                                                 \n",
            " dense_7 (Dense)             (None, 512)               131584    \n",
            "                                                                 \n",
            " batch_normalization_2 (Bat  (None, 512)               2048      \n",
            " chNormalization)                                                \n",
            "                                                                 \n",
            " dense_8 (Dense)             (None, 784)               402192    \n",
            "                                                                 \n",
            "=================================================================\n",
            "Total params: 583312 (2.23 MB)\n",
            "Trainable params: 581520 (2.22 MB)\n",
            "Non-trainable params: 1792 (7.00 KB)\n",
            "_________________________________________________________________\n"
          ]
        }
      ]
    },
    {
      "cell_type": "code",
      "source": [
        "discriminator.trainable = False   # weight Freezing\n",
        "\n",
        "gan_input = generator.input\n",
        "\n",
        "gen_output = generator(gan_input)\n",
        "dis_output = discriminator(gen_output)\n",
        "\n",
        "gan = Model(inputs=gan_input,outputs=dis_output)\n",
        "\n",
        "gan.compile(loss='binary_crossentropy',optimizer='adam')\n",
        "\n",
        "gan.summary()"
      ],
      "metadata": {
        "colab": {
          "base_uri": "https://localhost:8080/"
        },
        "id": "yHx9Nn9Yz8I5",
        "outputId": "849535a1-3f97-4ff7-f4d5-6fb3facc622a"
      },
      "execution_count": null,
      "outputs": [
        {
          "output_type": "stream",
          "name": "stdout",
          "text": [
            "Model: \"model\"\n",
            "_________________________________________________________________\n",
            " Layer (type)                Output Shape              Param #   \n",
            "=================================================================\n",
            " dense_5_input (InputLayer)  [(None, 100)]             0         \n",
            "                                                                 \n",
            " sequential_1 (Sequential)   (None, 784)               583312    \n",
            "                                                                 \n",
            " sequential (Sequential)     (None, 1)                 220633    \n",
            "                                                                 \n",
            "=================================================================\n",
            "Total params: 803945 (3.07 MB)\n",
            "Trainable params: 581520 (2.22 MB)\n",
            "Non-trainable params: 222425 (868.85 KB)\n",
            "_________________________________________________________________\n"
          ]
        }
      ]
    },
    {
      "cell_type": "code",
      "source": [
        "  losses = {\n",
        "      'D':[],\n",
        "      'G':[]\n",
        "  }"
      ],
      "metadata": {
        "id": "E7mYvQYe1bFm"
      },
      "execution_count": null,
      "outputs": []
    },
    {
      "cell_type": "code",
      "source": [
        "def plot_loss(losses):\n",
        "    d_loss = losses['D']\n",
        "    g_loss =  losses['G']\n",
        "\n",
        "    plt.figure(figsize=(10,8))\n",
        "    plt.plot(d_loss,label='Discriminator Loss',c='g')\n",
        "    plt.plot(g_loss,label='Generator Loss',c='b')\n",
        "    plt.xlabel('Epochs')\n",
        "    plt.ylabel('Loss')\n",
        "    plt.legend()\n",
        "    plt.show()\n",
        "\n",
        "def plot_generated(n_ex=10,dim=(1,10),figsize=(12,2)):\n",
        "    noise = np.random.normal(0,1,size=(n_ex,noise_dim))\n",
        "    generated_images = generator.predict(noise)\n",
        "    generated_images = generated_images.reshape(n_ex,28,28)\n",
        "\n",
        "    plt.figure(figsize=figsize)\n",
        "    for i in range(generated_images.shape[0]):\n",
        "      plt.subplot(dim[0],dim[1],i+1)\n",
        "      plt.imshow(generated_images[i],cmap='gray_r')\n",
        "      plt.axis('off')\n",
        "    plt.tight_layout()\n",
        "    plt.show()\n"
      ],
      "metadata": {
        "id": "3Xjs6AVM3FjL"
      },
      "execution_count": null,
      "outputs": []
    },
    {
      "cell_type": "code",
      "source": [
        "plot_generated()"
      ],
      "metadata": {
        "colab": {
          "base_uri": "https://localhost:8080/",
          "height": 154
        },
        "id": "dX-ph0tE3RIG",
        "outputId": "4eb21c6b-3ffd-4ffb-948d-19df0c448138"
      },
      "execution_count": null,
      "outputs": [
        {
          "output_type": "stream",
          "name": "stdout",
          "text": [
            "1/1 [==============================] - 2s 2s/step\n"
          ]
        },
        {
          "output_type": "display_data",
          "data": {
            "text/plain": [
              "<Figure size 1200x200 with 10 Axes>"
            ],
            "image/png": "[encoded data removed]"
          },
          "metadata": {}
        }
      ]
    },
    {
      "cell_type": "code",
      "source": [
        "def fit(epochs=20, plot_interval=5, batch_size=512):\n",
        "    no_of_batches = X.shape[0] // 512\n",
        "    for i in tqdm(range(1, epochs+1), desc='Training Progress'):\n",
        "        print(f'------------- Epoch {i} -------------')\n",
        "        for j in range(no_of_batches):\n",
        "            # Taking Real Images\n",
        "            batch_images = X[np.random.randint(0, 60_000, size=batch_size)]\n",
        "\n",
        "            # Taking Fake Images (images from geneator)\n",
        "            random_noise = np.random.normal(0, 1, size=(batch_size, noise_dim))\n",
        "            generated_image = generator.predict(random_noise, verbose=0)\n",
        "\n",
        "            # preparing datset with half fake and half real images\n",
        "            X_train = np.concatenate((batch_images, generated_image))\n",
        "            y_train = np.concatenate((np.ones(batch_size), np.zeros(batch_size)))\n",
        "\n",
        "            # Training Discriminator only\n",
        "            discriminator.trainable = True\n",
        "            dis_loss = discriminator.train_on_batch(X_train, y_train)\n",
        "\n",
        "            # Training Generator only (GAN)\n",
        "            discriminator.trainable = False\n",
        "            X_gan = np.random.normal(0, 1, size=(batch_size*2, noise_dim))\n",
        "            y_gan = np.ones(batch_size*2)\n",
        "            gan_loss = gan.train_on_batch(X_gan, y_gan)\n",
        "        losses['D'].append(dis_loss)\n",
        "        losses['G'].append(gan_loss)\n",
        "        if i == 1 or i%5 == 0:\n",
        "            plot_generated()"
      ],
      "metadata": {
        "id": "0zQ9g1fb5KcK"
      },
      "execution_count": null,
      "outputs": []
    },
    {
      "cell_type": "code",
      "source": [
        "fit()"
      ],
      "metadata": {
        "colab": {
          "base_uri": "https://localhost:8080/",
          "height": 1000
        },
        "id": "3k0Ronxi8S3k",
        "outputId": "89ab1d01-479c-4d6e-ff02-1579b019aafc"
      },
      "execution_count": null,
      "outputs": [
        {
          "output_type": "stream",
          "name": "stderr",
          "text": [
            "\rTraining Progress:   0%|          | 0/20 [00:00<?, ?it/s]"
          ]
        },
        {
          "output_type": "stream",
          "name": "stdout",
          "text": [
            "------------- Epoch 1 -------------\n",
            "1/1 [==============================] - 0s 21ms/step\n"
          ]
        },
        {
          "output_type": "display_data",
          "data": {
            "text/plain": [
              "<Figure size 1200x200 with 10 Axes>"
            ],
            "image/png": "[encoded data removed]"
          },
          "metadata": {}
        },
        {
          "output_type": "stream",
          "name": "stderr",
          "text": [
            "\rTraining Progress:   5%|▌         | 1/20 [00:30<09:38, 30.46s/it]"
          ]
        },
        {
          "output_type": "stream",
          "name": "stdout",
          "text": [
            "------------- Epoch 2 -------------\n"
          ]
        },
        {
          "output_type": "stream",
          "name": "stderr",
          "text": [
            "\rTraining Progress:  10%|█         | 2/20 [00:45<06:22, 21.25s/it]"
          ]
        },
        {
          "output_type": "stream",
          "name": "stdout",
          "text": [
            "------------- Epoch 3 -------------\n"
          ]
        },
        {
          "output_type": "stream",
          "name": "stderr",
          "text": [
            "\rTraining Progress:  15%|█▌        | 3/20 [00:59<05:10, 18.27s/it]"
          ]
        },
        {
          "output_type": "stream",
          "name": "stdout",
          "text": [
            "------------- Epoch 4 -------------\n"
          ]
        },
        {
          "output_type": "stream",
          "name": "stderr",
          "text": [
            "\rTraining Progress:  20%|██        | 4/20 [01:14<04:29, 16.86s/it]"
          ]
        },
        {
          "output_type": "stream",
          "name": "stdout",
          "text": [
            "------------- Epoch 5 -------------\n",
            "1/1 [==============================] - 0s 18ms/step\n"
          ]
        },
        {
          "output_type": "display_data",
          "data": {
            "text/plain": [
              "<Figure size 1200x200 with 10 Axes>"
            ],
            "image/png": "[encoded data removed]"
          },
          "metadata": {}
        },
        {
          "output_type": "stream",
          "name": "stderr",
          "text": [
            "\rTraining Progress:  25%|██▌       | 5/20 [01:29<04:03, 16.22s/it]"
          ]
        },
        {
          "output_type": "stream",
          "name": "stdout",
          "text": [
            "------------- Epoch 6 -------------\n"
          ]
        },
        {
          "output_type": "stream",
          "name": "stderr",
          "text": [
            "\rTraining Progress:  30%|███       | 6/20 [01:44<03:40, 15.74s/it]"
          ]
        },
        {
          "output_type": "stream",
          "name": "stdout",
          "text": [
            "------------- Epoch 7 -------------\n"
          ]
        },
        {
          "output_type": "stream",
          "name": "stderr",
          "text": [
            "\rTraining Progress:  35%|███▌      | 7/20 [01:59<03:21, 15.49s/it]"
          ]
        },
        {
          "output_type": "stream",
          "name": "stdout",
          "text": [
            "------------- Epoch 8 -------------\n"
          ]
        },
        {
          "output_type": "stream",
          "name": "stderr",
          "text": [
            "\rTraining Progress:  40%|████      | 8/20 [02:15<03:08, 15.75s/it]"
          ]
        },
        {
          "output_type": "stream",
          "name": "stdout",
          "text": [
            "------------- Epoch 9 -------------\n"
          ]
        },
        {
          "output_type": "stream",
          "name": "stderr",
          "text": [
            "\rTraining Progress:  45%|████▌     | 9/20 [02:30<02:49, 15.38s/it]"
          ]
        },
        {
          "output_type": "stream",
          "name": "stdout",
          "text": [
            "------------- Epoch 10 -------------\n",
            "1/1 [==============================] - 0s 17ms/step\n"
          ]
        },
        {
          "output_type": "display_data",
          "data": {
            "text/plain": [
              "<Figure size 1200x200 with 10 Axes>"
            ],
            "image/png": "[encoded data removed]"
          },
          "metadata": {}
        },
        {
          "output_type": "stream",
          "name": "stderr",
          "text": [
            "\rTraining Progress:  50%|█████     | 10/20 [02:45<02:33, 15.32s/it]"
          ]
        },
        {
          "output_type": "stream",
          "name": "stdout",
          "text": [
            "------------- Epoch 11 -------------\n"
          ]
        },
        {
          "output_type": "stream",
          "name": "stderr",
          "text": [
            "\rTraining Progress:  55%|█████▌    | 11/20 [03:00<02:16, 15.17s/it]"
          ]
        },
        {
          "output_type": "stream",
          "name": "stdout",
          "text": [
            "------------- Epoch 12 -------------\n"
          ]
        },
        {
          "output_type": "stream",
          "name": "stderr",
          "text": [
            "\rTraining Progress:  60%|██████    | 12/20 [03:15<02:00, 15.02s/it]"
          ]
        },
        {
          "output_type": "stream",
          "name": "stdout",
          "text": [
            "------------- Epoch 13 -------------\n"
          ]
        },
        {
          "output_type": "stream",
          "name": "stderr",
          "text": [
            "\rTraining Progress:  65%|██████▌   | 13/20 [03:30<01:45, 15.11s/it]"
          ]
        },
        {
          "output_type": "stream",
          "name": "stdout",
          "text": [
            "------------- Epoch 14 -------------\n"
          ]
        },
        {
          "output_type": "stream",
          "name": "stderr",
          "text": [
            "\rTraining Progress:  70%|███████   | 14/20 [03:45<01:30, 15.16s/it]"
          ]
        },
        {
          "output_type": "stream",
          "name": "stdout",
          "text": [
            "------------- Epoch 15 -------------\n",
            "1/1 [==============================] - 0s 23ms/step\n"
          ]
        },
        {
          "output_type": "display_data",
          "data": {
            "text/plain": [
              "<Figure size 1200x200 with 10 Axes>"
            ],
            "image/png": "[encoded data removed]"
          },
          "metadata": {}
        },
        {
          "output_type": "stream",
          "name": "stderr",
          "text": [
            "\rTraining Progress:  75%|███████▌  | 15/20 [04:01<01:16, 15.25s/it]"
          ]
        },
        {
          "output_type": "stream",
          "name": "stdout",
          "text": [
            "------------- Epoch 16 -------------\n"
          ]
        },
        {
          "output_type": "stream",
          "name": "stderr",
          "text": [
            "\rTraining Progress:  80%|████████  | 16/20 [04:16<01:01, 15.28s/it]"
          ]
        },
        {
          "output_type": "stream",
          "name": "stdout",
          "text": [
            "------------- Epoch 17 -------------\n"
          ]
        },
        {
          "output_type": "stream",
          "name": "stderr",
          "text": [
            "\rTraining Progress:  85%|████████▌ | 17/20 [04:31<00:45, 15.14s/it]"
          ]
        },
        {
          "output_type": "stream",
          "name": "stdout",
          "text": [
            "------------- Epoch 18 -------------\n"
          ]
        },
        {
          "output_type": "stream",
          "name": "stderr",
          "text": [
            "\rTraining Progress:  90%|█████████ | 18/20 [04:45<00:29, 14.98s/it]"
          ]
        },
        {
          "output_type": "stream",
          "name": "stdout",
          "text": [
            "------------- Epoch 19 -------------\n"
          ]
        },
        {
          "output_type": "stream",
          "name": "stderr",
          "text": [
            "\rTraining Progress:  95%|█████████▌| 19/20 [05:00<00:14, 14.90s/it]"
          ]
        },
        {
          "output_type": "stream",
          "name": "stdout",
          "text": [
            "------------- Epoch 20 -------------\n",
            "1/1 [==============================] - 0s 29ms/step\n"
          ]
        },
        {
          "output_type": "display_data",
          "data": {
            "text/plain": [
              "<Figure size 1200x200 with 10 Axes>"
            ],
            "image/png": "[encoded data removed]"
          },
          "metadata": {}
        },
        {
          "output_type": "stream",
          "name": "stderr",
          "text": [
            "Training Progress: 100%|██████████| 20/20 [05:16<00:00, 15.82s/it]\n"
          ]
        }
      ]
    },
    {
      "cell_type": "code",
      "source": [],
      "metadata": {
        "id": "HVNX621l8h78"
      },
      "execution_count": null,
      "outputs": []
    }
  ]
}